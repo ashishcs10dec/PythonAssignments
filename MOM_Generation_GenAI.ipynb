{
  "nbformat": 4,
  "nbformat_minor": 0,
  "metadata": {
    "colab": {
      "provenance": []
    },
    "kernelspec": {
      "name": "python3",
      "display_name": "Python 3"
    },
    "language_info": {
      "name": "python"
    }
  },
  "cells": [
    {
      "cell_type": "markdown",
      "source": [
        "# **Minutes of Meeting Generation from Recordings using Gemini AI**"
      ],
      "metadata": {
        "id": "jwtjzCNB6lrL"
      }
    },
    {
      "cell_type": "markdown",
      "source": [
        "# Audio to MOM Generation"
      ],
      "metadata": {
        "id": "QSw-7XGD0aIr"
      }
    },
    {
      "cell_type": "code",
      "source": [
        "# Using genai, generating MOM with the shared recordings of meeting.\n",
        "# Don't forget to use your api key\n",
        "# Frist code is generating MOM using audio file\n",
        "# Second code is generating MOM using video file\n",
        "\n",
        "# If you are using file path from google drive then don't forget to give access"
      ],
      "metadata": {
        "id": "fWx3P90B66pa"
      },
      "execution_count": null,
      "outputs": []
    },
    {
      "cell_type": "code",
      "source": [
        "import google.generativeai as genai"
      ],
      "metadata": {
        "id": "4FyiE19un62x"
      },
      "execution_count": 6,
      "outputs": []
    },
    {
      "cell_type": "code",
      "source": [
        "genai.configure(api_key=\"USE YOUR API KEY HERE\")"
      ],
      "metadata": {
        "id": "XDkhrvEqqQnl"
      },
      "execution_count": 7,
      "outputs": []
    },
    {
      "cell_type": "code",
      "source": [
        "model=genai.GenerativeModel(\"gemini-1.5-flash\")\n",
        "audio=genai.upload_file(path=\"/content/sample_data/ProjectMeeting.mp3\")"
      ],
      "metadata": {
        "id": "LU2qtuWoqmaT"
      },
      "execution_count": 23,
      "outputs": []
    },
    {
      "cell_type": "code",
      "source": [
        "prompt = \"\"\"Please generate Minutes of a meeting using the uploaded file in English.\n",
        "Minutes of a meeting are a written record of what happened at a meeting. Don't print any unknown information.\n",
        "Please dont' hallucinate anything from your side.\n",
        "They are an official record that can include:\n",
        "A record of decisions made\n",
        "A record of activities considered by participants\n",
        "A record of responses or decisions made in response to activities\n",
        "A record of key issues discussed\n",
        "A record of motions proposed or voted on\n",
        "\"\"\"\n",
        "\n",
        "response=model.generate_content([prompt, audio])\n",
        "print(response.text)"
      ],
      "metadata": {
        "colab": {
          "base_uri": "https://localhost:8080/",
          "height": 540
        },
        "id": "gqqyU2kq4_z6",
        "outputId": "7ab3a080-32ee-49e7-9139-27d5d7ddc514"
      },
      "execution_count": 25,
      "outputs": [
        {
          "output_type": "stream",
          "name": "stdout",
          "text": [
            "## Meeting Minutes\n",
            "\n",
            "**Date:**  [Insert Date]\n",
            "**Time:**  [Insert Time]\n",
            "**Attendees:** Daniel, Virginia, Eric, Fabian, Karina, Scott, Josh, Christie, David \n",
            "\n",
            "**Topics Discussed:**\n",
            "\n",
            "* **Reminders:**\n",
            "    * **Book Club:**  The next book club meeting will be held on August 7th. The book chosen is \"Inspired\" and is highly aligned with product management.  Daniel encourages all new hires to read this as well.\n",
            "    * **Interview Spreadsheet:** CS & Sales have populated a spreadsheet with customer contacts for meetings. Daniel requests a follow-up on this to ensure good coordination with the team and prompt meetings with customers. \n",
            "    * **Engagement Survey:** The monthly engagement survey will be run throughout Q3. Daniel asks everyone to complete the survey, which takes about a minute to fill out. The survey includes five quick questions and one free-form section for feedback.  Fabian did not receive the survey, so Jessica will resend it to him.  Karina did not receive it either.  Scott confirmed that the survey was sent and searched his email for the title of the survey, which is \"Pulse Survey\".  Anyone who did not receive the survey is requested to ping Daniel.\n",
            "    * **Customer Interviews:**  The team has a goal of three customer interviews per PM.  There is an OKR issue, so anyone who has not updated it recently is asked to do so.  There are only three weeks left until Q2, so Daniel encourages the team to invest time in scheduling these interviews.\n",
            "    * **Category Maturity Page:** Josh did a great job creating some new views for the Category Maturity page, including a flowchart showing the maturity level at a given point in time.  If anyone has not already reviewed the flowchart, they are asked to confirm or update the information.\n",
            "* **Team Updates:**\n",
            "    * **New Hires:** The team hired two new PMs, Gabe Weaver and Dov Hershkowitz.  Gabe will lead the third PM group, and Dov will serve as the APM monitoring. \n",
            "    * **Customer Results Language:** Christie and David worked to change some language around customer results. Daniel encourages everyone to review the changes.  Scott discussed the specific changes and highlighted the addition of a \"prioritize ruthlessly\" section.  Daniel explained that the change in language was due to the need to emphasize customer feedback over internal feedback. \n",
            "    * **Core Competencies:** Scott had the feedback that some of the text in the customer results document seems to focus on new scope rather than core competencies.  He suggests focusing on what the team does best.  Daniel agreed that the main point of the document was to prioritize and focus on what matters most, reiterating his previous message about focusing on what matters most first.\n",
            "\n",
            "**Action Items:**\n",
            "\n",
            "* **Jessica:** Resend the Pulse Survey to Fabian and Karina.\n",
            "* **Daniel:**  Confirm that everyone received the Pulse Survey.\n",
            "* **All PMs:** Update the OKR issue for customer interviews. Schedule three customer interviews each.\n",
            "* **All PMs:**  Review and update the Category Maturity page, if needed.\n",
            "* **All Team Members:**  Review the changes made to the Customer Results language and provide feedback.\n",
            "\n",
            "**Next Meeting:**  [Insert Date] at [Insert Time]\n",
            "\n"
          ]
        }
      ]
    },
    {
      "cell_type": "markdown",
      "source": [
        "# Video to MOM Generation"
      ],
      "metadata": {
        "id": "98ZMSotS0UIK"
      }
    },
    {
      "cell_type": "code",
      "source": [
        "import time\n",
        "\n",
        "video = genai.upload_file(path = \"/content/sample_data/ProjectMeetingTeams.mp4\")\n",
        "\n",
        "while video.state.name == \"PROCESSING\":\n",
        "  print('.', end=\"\")\n",
        "\n",
        "  time.sleep(10)\n",
        "  video = genai.get_file(video.name)\n",
        "\n",
        "print(\"Meeting uploaded successfully!\")"
      ],
      "metadata": {
        "colab": {
          "base_uri": "https://localhost:8080/",
          "height": 34
        },
        "id": "1MghMS14rVwC",
        "outputId": "8c894673-ed56-4c30-ceeb-03e670876146"
      },
      "execution_count": 14,
      "outputs": [
        {
          "output_type": "stream",
          "name": "stdout",
          "text": [
            "..Meeting uploaded successfully!\n"
          ]
        }
      ]
    },
    {
      "cell_type": "code",
      "source": [
        "prompt = \"\"\"Please generate Minutes of a meeting using the uploaded file in English.\n",
        "Minutes of a meeting are a written record of what happened at a meeting. Don't suggest or add or print any information if it is not available.\n",
        "They are an official record that can include:\n",
        "A record of decisions made\n",
        "A record of activities considered by participants\n",
        "A record of responses or decisions made in response to activities\n",
        "A record of key issues discussed\n",
        "A record of motions proposed or voted on\n",
        "\"\"\"\n",
        "\n",
        "response = model.generate_content([prompt,video])\n",
        "print(response.text)"
      ],
      "metadata": {
        "colab": {
          "base_uri": "https://localhost:8080/",
          "height": 1000
        },
        "id": "S5T_4b3duLDl",
        "outputId": "279bd341-26cd-4ec9-de64-13a9077b32af"
      },
      "execution_count": 22,
      "outputs": [
        {
          "output_type": "stream",
          "name": "stdout",
          "text": [
            "## Minutes of Meeting \n",
            "\n",
            "**Date:** Not Available\n",
            "**Time:** Not Available\n",
            "**Attendees:** \n",
            "* Scott\n",
            "* Daniel\n",
            "* Virginia\n",
            "* Eric\n",
            "* Josh\n",
            "*  Karina\n",
            "*  Unknown Attendee 1 \n",
            "*  Unknown Attendee 2 \n",
            "*  Unknown Attendee 3 \n",
            "*  Unknown Attendee 4 \n",
            "*  Unknown Attendee 5\n",
            "*  Unknown Attendee 6\n",
            "*  Unknown Attendee 7\n",
            "*  Unknown Attendee 8\n",
            "*  Unknown Attendee 9\n",
            "\n",
            "**Meeting Type:** Team Meeting\n",
            "\n",
            "**Key Discussion Points:**\n",
            "\n",
            "* **Reminders:**\n",
            "    * There is a book club meeting in 4 weeks, on August 7th.\n",
            "    * The interview spreadsheet for CS and Sales needs to be populated with customer contacts for meetings. \n",
            "    * A monthly engagement survey will be run in Q3. \n",
            "    * The team needs to make sure the category maturity page is accurately reflecting the team's current progress. \n",
            "* **Team Updates:**\n",
            "    * The team has hired two new PMs. \n",
            "    * Gabe Weaver is a strong candidate for the fourth PM position.\n",
            "    * The team has hired Dov Herskovitz as the APM, monitoring. \n",
            "* **Discussion about the category maturity page:**\n",
            "    * Some of the text on the page seems to suggest a need to focus on core competencies, as opposed to new scopes. \n",
            "\n",
            "**Decisions Made:**\n",
            "\n",
            "*  Jessica will resend the engagement survey to Fabian and Karina.\n",
            "*  The team will continue to prioritize the most important tasks and will not try to do everything at once. \n",
            "\n",
            "**Action Items:** \n",
            "\n",
            "*  Scott to ask Jessica to resend the engagement survey to Fabian and Karina.\n",
            "*  All attendees to review the category maturity page and provide feedback. \n",
            "\n",
            "**Next Steps:**\n",
            "*  The team will continue to work on the category maturity page and focus on the most important tasks first. \n",
            "\n",
            "**Notes:**\n",
            "\n",
            "*  The engagement survey was sent out, but not everyone received it. \n",
            "*  The team is continuing to grow and is working to improve its processes. \n",
            "\n",
            "**End of Meeting:** Not Available \n",
            "\n"
          ]
        }
      ]
    },
    {
      "cell_type": "markdown",
      "source": [
        "# Delete sent files"
      ],
      "metadata": {
        "id": "r_TtyPw_0olT"
      }
    },
    {
      "cell_type": "code",
      "source": [
        "for file in genai.list_files():\n",
        "  genai.delete_file(file.name)\n",
        "  print(f\"The {file.name} is deleted successfully.\")"
      ],
      "metadata": {
        "id": "JC3EOuEy0qGF"
      },
      "execution_count": null,
      "outputs": []
    }
  ]
}