{
 "cells": [
  {
   "cell_type": "markdown",
   "id": "cde7b2f9",
   "metadata": {},
   "source": [
    "# 1. Factor of all given number"
   ]
  },
  {
   "cell_type": "code",
   "execution_count": 3,
   "id": "e4002c3d",
   "metadata": {},
   "outputs": [
    {
     "name": "stdout",
     "output_type": "stream",
     "text": [
      "Enter the number:6\n",
      "720\n"
     ]
    }
   ],
   "source": [
    "def factor():\n",
    "    num=int(input(\"Enter the number:\"))\n",
    "    x=1\n",
    "    for i in range(num):\n",
    "        x = x*num\n",
    "        num=num-1\n",
    "    print(x)\n",
    "    \n",
    "factor()    "
   ]
  },
  {
   "cell_type": "markdown",
   "id": "182003c7",
   "metadata": {},
   "source": [
    "# 2. Print if the given string are equal"
   ]
  },
  {
   "cell_type": "code",
   "execution_count": 5,
   "id": "34700cf7",
   "metadata": {},
   "outputs": [
    {
     "name": "stdout",
     "output_type": "stream",
     "text": [
      "Enter the first string:ashish\n",
      "Enter the second string:Ashish\n",
      "Given inputs are equal\n"
     ]
    }
   ],
   "source": [
    "def equal_string():\n",
    "    str1=input(\"Enter the first string:\")\n",
    "    str2=input(\"Enter the second string:\")\n",
    "    if str1.lower()==str2.lower():\n",
    "        print(\"Given inputs are equal\")\n",
    "    else:\n",
    "        print(\"Given inputs are not equal\")\n",
    "        \n",
    "equal_string()"
   ]
  },
  {
   "cell_type": "markdown",
   "id": "04956c98",
   "metadata": {},
   "source": [
    "# 3. Frequency of character in given string"
   ]
  },
  {
   "cell_type": "code",
   "execution_count": 2,
   "id": "4f261645",
   "metadata": {},
   "outputs": [
    {
     "name": "stdout",
     "output_type": "stream",
     "text": [
      "Enter the given string:hello\n",
      "Frequency of all character is :\n",
      " {'h': 1, 'e': 1, 'l': 2, 'o': 1}\n"
     ]
    }
   ],
   "source": [
    "def freq_string():\n",
    "    str1=input(\"Enter the given string:\")\n",
    "    all_freq = {}\n",
    "    \n",
    "    for i in str1:\n",
    "        if i in all_freq:\n",
    "            all_freq[i] += 1\n",
    "        else:\n",
    "            all_freq[i] = 1\n",
    "\n",
    "    print(\"Frequency of all character is :\\n \"\n",
    "          + str(all_freq))\n",
    "    \n",
    "freq_string()    "
   ]
  },
  {
   "cell_type": "markdown",
   "id": "1cd4dcda",
   "metadata": {},
   "source": [
    "# 4. Number of vowels in given string"
   ]
  },
  {
   "cell_type": "code",
   "execution_count": 4,
   "id": "749f2857",
   "metadata": {},
   "outputs": [
    {
     "name": "stdout",
     "output_type": "stream",
     "text": [
      "Please enter any string: ashish\n",
      "Number of vowels in given string is:  2\n"
     ]
    }
   ],
   "source": [
    "def number_of_vowels():\n",
    "    str1=input(\"Please enter any string: \")\n",
    "    vowels = \"aeiouAEIOU\"\n",
    " \n",
    "    count = sum(str1.count(vowel) for vowel in vowels)\n",
    "    print(\"Number of vowels in given string is: \",count)\n",
    "    \n",
    "number_of_vowels()    "
   ]
  },
  {
   "cell_type": "markdown",
   "id": "4467f8fb",
   "metadata": {},
   "source": [
    "# 5. Numbers divisible by given number in range"
   ]
  },
  {
   "cell_type": "code",
   "execution_count": 9,
   "id": "85854dd2",
   "metadata": {},
   "outputs": [
    {
     "name": "stdout",
     "output_type": "stream",
     "text": [
      "Enter any number8\n",
      "2\n",
      "4\n",
      "6\n",
      "8\n"
     ]
    }
   ],
   "source": [
    "def divisible_number():\n",
    "    num=int(input(\"Enter any number\"))\n",
    "    for i in range(num+1):\n",
    "        if i!=0:\n",
    "            if i%2==0:\n",
    "                print(i)\n",
    "            \n",
    "divisible_number()            "
   ]
  },
  {
   "cell_type": "markdown",
   "id": "8aa0e763",
   "metadata": {},
   "source": [
    "# 6. Factor of number with recursive and without recursive"
   ]
  },
  {
   "cell_type": "code",
   "execution_count": 10,
   "id": "eeef05d4",
   "metadata": {},
   "outputs": [
    {
     "name": "stdout",
     "output_type": "stream",
     "text": [
      "Enter any number: 4\n",
      "24\n"
     ]
    }
   ],
   "source": [
    "# without recursion\n",
    "def number_factor():\n",
    "    num=int(input(\"Enter any number: \"))\n",
    "    x=1\n",
    "    for i in range(num):\n",
    "        x = x*num\n",
    "        num=num-1\n",
    "    print(x)\n",
    "    \n",
    "number_factor()    "
   ]
  },
  {
   "cell_type": "code",
   "execution_count": 16,
   "id": "a483a88b",
   "metadata": {},
   "outputs": [
    {
     "name": "stdout",
     "output_type": "stream",
     "text": [
      "Enter the number: 4\n"
     ]
    },
    {
     "data": {
      "text/plain": [
       "24"
      ]
     },
     "execution_count": 16,
     "metadata": {},
     "output_type": "execute_result"
    }
   ],
   "source": [
    "# with recursion\n",
    "def number_factor_recursion(n):\n",
    "    if n == 1:  \n",
    "        return n  \n",
    "    else:  \n",
    "        return n*number_factor_recursion(n-1)  \n",
    "\n",
    "num=int(input(\"Enter the number: \"))\n",
    "number_factor_recursion(num)"
   ]
  },
  {
   "cell_type": "markdown",
   "id": "f217b6ea",
   "metadata": {},
   "source": [
    "# 7. Print \"Welcome\" if name present"
   ]
  },
  {
   "cell_type": "code",
   "execution_count": 28,
   "id": "39fa9294",
   "metadata": {},
   "outputs": [
    {
     "name": "stdout",
     "output_type": "stream",
     "text": [
      "Enter name: ashish\n",
      "Welcome\n"
     ]
    }
   ],
   "source": [
    "def print_name():\n",
    "    name_list={\"ashish\",\"satish\",\"rakesh\",\"nanda\",\"nidhi\",\"harvinder\"}\n",
    "    str1=input(\"Enter name: \")\n",
    "    str1=str1.lower()\n",
    "    msg=\"See you next time\"\n",
    "    for i in name_list:\n",
    "        if i==str1:\n",
    "            msg=\"Welcome\"\n",
    "            break\n",
    "    print(msg)   \n",
    "    \n",
    "print_name()"
   ]
  },
  {
   "cell_type": "markdown",
   "id": "6224596a",
   "metadata": {},
   "source": [
    "# 8. Prime Number"
   ]
  },
  {
   "cell_type": "code",
   "execution_count": 34,
   "id": "1d872cfd",
   "metadata": {},
   "outputs": [
    {
     "name": "stdout",
     "output_type": "stream",
     "text": [
      "Enter any number: 9\n",
      "9  is not a prime number.\n"
     ]
    }
   ],
   "source": [
    "def prime_numer():\n",
    "    num=int(input(\"Enter any number: \"))\n",
    "    if num == 0:\n",
    "        print(\"Enter any number greater than 0\")\n",
    "    elif num%2==0:\n",
    "        print(num, \" is a prime number.\")\n",
    "    else:\n",
    "        print(num, \" is not a prime number.\")\n",
    "        \n",
    "prime_numer()"
   ]
  },
  {
   "cell_type": "markdown",
   "id": "e1e9294b",
   "metadata": {},
   "source": [
    "# 9. List of Prime Numbers in given range"
   ]
  },
  {
   "cell_type": "code",
   "execution_count": 36,
   "id": "ad72f1f8",
   "metadata": {},
   "outputs": [
    {
     "name": "stdout",
     "output_type": "stream",
     "text": [
      "Please enter any range: 8\n",
      "2\n",
      "4\n",
      "6\n",
      "8\n"
     ]
    }
   ],
   "source": [
    "def prime_number_list():\n",
    "    num=int(input(\"Please enter any range: \"))\n",
    "    for i in range(num+1):\n",
    "        if i!=0 and i%2==0:\n",
    "            print(i)\n",
    "            \n",
    "prime_number_list()            "
   ]
  },
  {
   "cell_type": "markdown",
   "id": "c6b89093",
   "metadata": {},
   "source": [
    "# 10. Perfect Number Check"
   ]
  },
  {
   "cell_type": "code",
   "execution_count": 40,
   "id": "4777ba0f",
   "metadata": {},
   "outputs": [
    {
     "name": "stdout",
     "output_type": "stream",
     "text": [
      "Enter any number: 6\n",
      "Number is a Perfect Number.\n"
     ]
    }
   ],
   "source": [
    "def perfect_number_check():\n",
    "    Input_Number = int(input(\"Enter any number: \"))\n",
    "    Sum = 0\n",
    "    for i in range(1, Input_Number):\n",
    "        if(Input_Number % i == 0):\n",
    "            Sum = Sum + i\n",
    "    if (Sum == Input_Number):\n",
    "        print(\"Number is a Perfect Number.\")\n",
    "    else:\n",
    "        print(\"Number is not a Perfect Number.\")\n",
    "        \n",
    "perfect_number_check()"
   ]
  },
  {
   "cell_type": "code",
   "execution_count": null,
   "id": "b2b11bc8",
   "metadata": {},
   "outputs": [],
   "source": []
  }
 ],
 "metadata": {
  "kernelspec": {
   "display_name": "Python 3 (ipykernel)",
   "language": "python",
   "name": "python3"
  },
  "language_info": {
   "codemirror_mode": {
    "name": "ipython",
    "version": 3
   },
   "file_extension": ".py",
   "mimetype": "text/x-python",
   "name": "python",
   "nbconvert_exporter": "python",
   "pygments_lexer": "ipython3",
   "version": "3.10.9"
  }
 },
 "nbformat": 4,
 "nbformat_minor": 5
}
