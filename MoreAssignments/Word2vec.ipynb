{
  "nbformat": 4,
  "nbformat_minor": 0,
  "metadata": {
    "colab": {
      "provenance": []
    },
    "kernelspec": {
      "name": "python3",
      "display_name": "Python 3"
    },
    "language_info": {
      "name": "python"
    }
  },
  "cells": [
    {
      "cell_type": "code",
      "execution_count": 2,
      "metadata": {
        "colab": {
          "base_uri": "https://localhost:8080/"
        },
        "id": "umPKrD0X4m7-",
        "outputId": "2a80e13a-ec05-4b48-b744-f8074ab0ca8a"
      },
      "outputs": [
        {
          "output_type": "stream",
          "name": "stdout",
          "text": [
            "Embedding for the word 'king':\n",
            "[ 1.0412025e+00 -2.7567783e-01  2.0319185e+00 -1.4194884e+00\n",
            "  3.0943179e+00 -2.2463479e+00  3.7981169e+00  8.2307780e-01\n",
            "  1.8292858e-01  3.4990842e+00  3.1044798e+00  1.5070221e+00\n",
            " -3.1633234e+00  1.5717769e+00 -2.0321620e+00  2.6406722e+00\n",
            " -1.0228087e+00 -2.0704074e+00  8.4210867e-01 -2.5974420e-01\n",
            " -1.7057713e+00 -3.3833587e+00  3.6851747e+00  2.7390008e+00\n",
            " -7.3529166e-01  1.4434745e+00  1.4024854e-01  6.4702839e-02\n",
            "  5.7837749e-01 -3.3666637e+00 -1.3632107e+00  2.9390366e+00\n",
            "  2.4358194e+00 -1.5253038e+00 -3.3257899e+00 -2.4961665e+00\n",
            "  5.6601715e-01 -8.6608821e-01 -1.9702789e+00  1.9274222e+00\n",
            " -1.2754145e+00 -1.1255206e+00  5.6187539e+00  1.6816145e+00\n",
            "  9.5049909e-04 -5.9677178e-01  5.6515422e+00  1.3411726e+00\n",
            "  4.9114189e-01  2.4766128e-01]\n"
          ]
        }
      ],
      "source": [
        "from gensim.models import Word2Vec\n",
        "import gensim.downloader as api\n",
        "\n",
        "# Load the text8 corpus\n",
        "dataset = api.load('text8')\n",
        "\n",
        "# Build a Word2Vec model\n",
        "model = Word2Vec(dataset, vector_size=50, window=5, min_count=1, workers=4)\n",
        "\n",
        "# Save the model\n",
        "model.save('text8_word2vec.model')\n",
        "\n",
        "# Load the saved model\n",
        "model = Word2Vec.load('text8_word2vec.model')\n",
        "\n",
        "# Example: Get the vector for a word\n",
        "word = \"king\"\n",
        "if word in model.wv.key_to_index:\n",
        "    vector = model.wv[word]\n",
        "    print(f\"Embedding for the word '{word}':\\n{vector}\")\n",
        "else:\n",
        "    print(f\"The word '{word}' is not in the vocabulary.\")"
      ]
    },
    {
      "cell_type": "code",
      "source": [],
      "metadata": {
        "id": "4qrJRIXg5q_L"
      },
      "execution_count": null,
      "outputs": []
    }
  ]
}