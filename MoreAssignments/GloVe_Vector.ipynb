{
  "nbformat": 4,
  "nbformat_minor": 0,
  "metadata": {
    "colab": {
      "provenance": []
    },
    "kernelspec": {
      "name": "python3",
      "display_name": "Python 3"
    },
    "language_info": {
      "name": "python"
    }
  },
  "cells": [
    {
      "cell_type": "code",
      "execution_count": 1,
      "metadata": {
        "id": "0MlTGZjDy0w7"
      },
      "outputs": [],
      "source": [
        "from tensorflow.keras.preprocessing.text import Tokenizer\n",
        "from tensorflow.keras.preprocessing.sequence import pad_sequences\n",
        "import numpy as np"
      ]
    },
    {
      "cell_type": "code",
      "source": [
        "def embedding_for_vocab(filepath, word_index,\n",
        "\t\t\t\t\t\tembedding_dim):\n",
        "\tvocab_size = len(word_index) + 1\n",
        "\n",
        "\t# Adding again 1 because of reserved 0 index\n",
        "\tembedding_matrix_vocab = np.zeros((vocab_size,\n",
        "\t\t\t\t\t\t\t\t\tembedding_dim))\n",
        "\n",
        "\twith open(filepath, encoding=\"utf8\") as f:\n",
        "\t\tfor line in f:\n",
        "\t\t\tword, *vector = line.split()\n",
        "\t\t\tif word in word_index:\n",
        "\t\t\t\tidx = word_index[word]\n",
        "\t\t\t\tembedding_matrix_vocab[idx] = np.array(\n",
        "\t\t\t\t\tvector, dtype=np.float32)[:embedding_dim]\n",
        "\n",
        "\treturn embedding_matrix_vocab"
      ],
      "metadata": {
        "id": "GOj1WtAv06nj"
      },
      "execution_count": 2,
      "outputs": []
    },
    {
      "cell_type": "code",
      "source": [
        "x = {'text', 'the', 'leader', 'prime',\n",
        "\t'natural', 'language'}\n",
        "\n",
        "# create the dict.\n",
        "tokenizer = Tokenizer()\n",
        "tokenizer.fit_on_texts(x)\n",
        "\n",
        "# number of unique words in dict.\n",
        "print(\"Number of unique words in dictionary=\",\n",
        "\tlen(tokenizer.word_index))\n",
        "print(\"Dictionary is = \", tokenizer.word_index)\n",
        "\n",
        "from google.colab import drive\n",
        "drive.mount('/content/drive')\n",
        "\n",
        "# matrix for vocab: word_index\n",
        "embedding_dim = 50\n",
        "embedding_matrix_vocab = embedding_for_vocab(\n",
        "\t'/content/drive/MyDrive/glove.6B.50d.txt', tokenizer.word_index,\n",
        "embedding_dim)\n",
        "\n",
        "print(\"Dense vector for first word is => \",\n",
        "\tembedding_matrix_vocab[1])"
      ],
      "metadata": {
        "colab": {
          "base_uri": "https://localhost:8080/"
        },
        "id": "N_8CEO-q2Ivq",
        "outputId": "d59175dc-daad-41d8-a6df-8f225b5e9a68"
      },
      "execution_count": 7,
      "outputs": [
        {
          "output_type": "stream",
          "name": "stdout",
          "text": [
            "Number of unique words in dictionary= 6\n",
            "Dictionary is =  {'language': 1, 'the': 2, 'natural': 3, 'leader': 4, 'text': 5, 'prime': 6}\n",
            "Drive already mounted at /content/drive; to attempt to forcibly remount, call drive.mount(\"/content/drive\", force_remount=True).\n",
            "Dense vector for first word is =>  [-5.79900026e-01 -1.10100001e-01 -1.15569997e+00 -2.99059995e-03\n",
            " -2.06129998e-01  4.52890009e-01 -1.66710004e-01 -1.03820002e+00\n",
            " -9.92410004e-01  3.98840010e-01  5.92299998e-01  2.29900002e-01\n",
            "  1.52129996e+00 -1.77640006e-01 -2.97259986e-01 -3.92349988e-01\n",
            " -7.84709990e-01  1.55939996e-01  6.90769970e-01  5.95369995e-01\n",
            " -4.43399996e-01  5.35139978e-01  3.28530014e-01  1.24370003e+00\n",
            "  1.29719996e+00 -1.38779998e+00 -1.09249997e+00 -4.09249991e-01\n",
            " -5.69710016e-01 -3.46560001e-01  3.71630001e+00 -1.04890001e+00\n",
            " -4.67079997e-01 -4.47389990e-01  6.22999994e-03  1.96490008e-02\n",
            " -4.01609987e-01 -6.29130006e-01 -8.25060010e-01  4.55909997e-01\n",
            "  8.26259971e-01  5.70909977e-01  2.11989999e-01  4.68650013e-01\n",
            " -6.00269973e-01  2.99199998e-01  6.79440022e-01  1.42379999e+00\n",
            " -3.21520008e-02 -1.26029998e-01]\n"
          ]
        }
      ]
    },
    {
      "cell_type": "code",
      "source": [],
      "metadata": {
        "id": "9bnv4oIv4K9B"
      },
      "execution_count": null,
      "outputs": []
    }
  ]
}