{
  "nbformat": 4,
  "nbformat_minor": 0,
  "metadata": {
    "colab": {
      "provenance": []
    },
    "kernelspec": {
      "name": "python3",
      "display_name": "Python 3"
    },
    "language_info": {
      "name": "python"
    }
  },
  "cells": [
    {
      "cell_type": "code",
      "source": [
        "!pip install pyttsx3\n",
        "!apt update && apt install espeak\n",
        "!pip install espeakng"
      ],
      "metadata": {
        "colab": {
          "base_uri": "https://localhost:8080/"
        },
        "id": "XgPU7Sxv0Nbh",
        "outputId": "dd92885d-e389-4c05-bf75-ad548ea86468"
      },
      "execution_count": 32,
      "outputs": [
        {
          "output_type": "stream",
          "name": "stdout",
          "text": [
            "Requirement already satisfied: pyttsx3 in /usr/local/lib/python3.10/dist-packages (2.97)\n",
            "Hit:1 https://cloud.r-project.org/bin/linux/ubuntu jammy-cran40/ InRelease\n",
            "Hit:2 https://developer.download.nvidia.com/compute/cuda/repos/ubuntu2204/x86_64  InRelease\n",
            "Hit:3 http://archive.ubuntu.com/ubuntu jammy InRelease\n",
            "Get:4 http://security.ubuntu.com/ubuntu jammy-security InRelease [129 kB]\n",
            "Get:5 http://archive.ubuntu.com/ubuntu jammy-updates InRelease [128 kB]\n",
            "Ign:6 https://r2u.stat.illinois.edu/ubuntu jammy InRelease\n",
            "Hit:7 https://r2u.stat.illinois.edu/ubuntu jammy Release\n",
            "Hit:9 https://ppa.launchpadcontent.net/deadsnakes/ppa/ubuntu jammy InRelease\n",
            "Hit:10 https://ppa.launchpadcontent.net/graphics-drivers/ppa/ubuntu jammy InRelease\n",
            "Hit:11 http://archive.ubuntu.com/ubuntu jammy-backports InRelease\n",
            "Hit:12 https://ppa.launchpadcontent.net/ubuntugis/ppa/ubuntu jammy InRelease\n",
            "Get:13 http://archive.ubuntu.com/ubuntu jammy-updates/main amd64 Packages [2,585 kB]\n",
            "Fetched 2,842 kB in 3s (942 kB/s)\n",
            "Reading package lists... Done\n",
            "Building dependency tree... Done\n",
            "Reading state information... Done\n",
            "67 packages can be upgraded. Run 'apt list --upgradable' to see them.\n",
            "\u001b[1;33mW: \u001b[0mSkipping acquire of configured file 'main/source/Sources' as repository 'https://r2u.stat.illinois.edu/ubuntu jammy InRelease' does not seem to provide it (sources.list entry misspelt?)\u001b[0m\n",
            "Reading package lists... Done\n",
            "Building dependency tree... Done\n",
            "Reading state information... Done\n",
            "espeak is already the newest version (1.48.15+dfsg-3).\n",
            "0 upgraded, 0 newly installed, 0 to remove and 67 not upgraded.\n",
            "Requirement already satisfied: espeakng in /usr/local/lib/python3.10/dist-packages (1.0.3)\n"
          ]
        }
      ]
    },
    {
      "cell_type": "code",
      "source": [
        "import google.generativeai as genai\n",
        "import pyttsx3\n",
        "\n",
        "gemini_api_key = \"\"\n",
        "genai.configure(api_key=gemini_api_key)\n",
        "model = genai.GenerativeModel('gemini-1.5-flash')"
      ],
      "metadata": {
        "id": "XOnkd-jO46u9"
      },
      "execution_count": 33,
      "outputs": []
    },
    {
      "cell_type": "code",
      "execution_count": 44,
      "metadata": {
        "id": "EAAyUabHvR7Q"
      },
      "outputs": [],
      "source": [
        "def generate_audio():\n",
        "    audio = pyttsx3.init()\n",
        "    audio.setProperty('rate', 150)\n",
        "    audio.setProperty('volume', 1.0)\n",
        "    voices = audio.getProperty('voices')\n",
        "    audio.setProperty('voice', \"english\")\n",
        "    audio.save_to_file(\"Hello, How are you?\", \"demo.mp3\")\n",
        "    audio.runAndWait()"
      ]
    },
    {
      "cell_type": "code",
      "source": [
        "generate_audio()\n",
        "from IPython.display import Audio, display\n",
        "\n",
        "display(Audio(\"demo.mp3\", autoplay=True))"
      ],
      "metadata": {
        "colab": {
          "base_uri": "https://localhost:8080/",
          "height": 75
        },
        "id": "Wj3pATf6yxFh",
        "outputId": "9c17bdaa-c047-4d72-e021-6ffc27930e72"
      },
      "execution_count": 45,
      "outputs": [
        {
          "output_type": "display_data",
          "data": {
            "text/plain": [
              "<IPython.lib.display.Audio object>"
            ],
            "text/html": [
              "\n",
              "                <audio  controls=\"controls\" autoplay=\"autoplay\">\n",
              "                    <source src=\"data:audio/mpeg;base64,SUQzBAAAAAAAI1RTU0UAAAAPAAADTGF2ZjU4Ljc2LjEwMAAAAAAAAAAAAAAA//NwwAAAAAAAAAAAAEluZm8AAAAPAAAAKAAAEQoAEBAWFh0dHSMjKSkpLy81NTU7O0FBQUhITk5OVFRaWlpgYGZmZmxscnJyeXl/f3+FhYuLi5GRl5eXnZ2jo6OqqrCwsLa2vLy8wsLIyMjOztXV1dvb4eHh5+ft7e3z8/n5+f//AAAAAExhdmM1OC4xMwAAAAAAAAAAAAAAACQD6wAAAAAAABEKi75ahgAAAAAAAAAAAAAAAAD/80DEABCQtZgJRUgBJ+c/6nOHw4OEwDD5g4HBMMGCMEyeQUDDiBhdG3SBBgj/wV4IzPHwDA8//////w8fxkQHngERkPwECM/kw8/jjM3wFQwLBVaLSKRUKBQKBSAt/wc4vjR6CuxJD//zQsQYGrIyrl+FaAAQKOeUZNYWI9jUex9LyibGh53Qf6aCCanzBf8wRcl0y+iqimddP/kmbn2NyTL49yLdS2vX//Hmx43fTmCBgaGRikxb1M/0iAQFJ9QJnIYd////rYLVEA5CQLs3///zQMQJFrk2tl3GMAD/bZOjvzkB5NOhmE1hMqLvuwPcTZO2NSQovP9bw3xm/fP/2y67JzzKYcMPWkXVgg8mobjLmi4ECyR4Vay+kYLAMQkAcBBYnDD3N/X6ltS6EENWiFNRDoEuD4gM//NCxAkVgmK6tEhFOIrKIdIDyCEmC4SjqS+MTP2iRz6lypdv6wvsIn+8U7LJ5XjM0NwiJkEjhs4yUTZfaureIJOU6Jf/5r7TMIB9h1z//9Tyxs+wOljBwWePenQgHgIwQFTBU8ImV2Y///NAxA8WoVa6tMvKWCjk+yBahX2ZlY1FuHHbjsJahyRG2hDQqle5sKHmWylzCVj8eEkLHHFBc92/6IpCKECDBtGpmN7OMDSiY868wkyaN7fnv//cz//V4iq+JEaJNDDF/g4oDiQhgmz/80LEDxdhmtYc08paWEXVIn1hh1DdeWFKxwUyW5uNBzfxrsbxcKlzEzJgNArysLguRo9if/2RahhAGV3b/QXOEgc4AEUe6UaJ0HVgUPjgkHjI5n////9C3HyBeo2mgAIyluLheOTbKTj/80DEDRbC4u5fTzgCt0deBbCpiKS2FLhgYmxWxIlqOeXHR9BuLio0cxggGhIw2//psaUVnO/65zDhNB12dN2UycyyAwiVb0/zJky2ZRv//////71y0opxz7EKsgIKmYExYyZUK8nTWP/zQsQNF0GqzKOJeAADoRCsDpAFYyj6E9UAk4jji2p83iel8F8agaslBv61y5T65jTb//0rf/Cb/8Szwrf5YWaN/8bYp9f5gMT61Xtf/565i2//cY8sJ3//////6234VLCpe4erDExiE//zQMQMFtGqxAGMaADeB89AeFiIySQKADOCRABWhuDKGGLgWIugkIF6AzgScIw91vJB3j1Q+XyfrnNZUXyg2s+ORfokw26h/KRcl9fzI2OonvHKcYljv//////6qpG4y0UwjbXGkm2A//NCxAsXaar6X49oAiSgBuOhFnW91DWDGYEOXMORjHshrcPQ6XxgyXKx+JwHY6fZzFEeprISs0bRb1pGmsxfmRe9c39azT1mKjBAwRfzynS/RMi8/////Gv/BB3xKRCVghsc/Wgl+WYL//NAxAkV+Y68AZhoACoELvsFXoOjRdMpWCIiqdBdQdAA9sCmAkBiHCO0Po8EwPNo5DX//rQL+owbpGT9Ae5b7oj386SJ8sTPlh9+mmyZu1ISBr////FxX+GH/CogDj/jiGFjQEyx43X/80LEDBehorTLmGgA0OKfTEy/MLUaNj2cnMbTX8WYE2BQguCgAlxLhgwVsO4RU0cKZCMg9//1mRvqRN+7pa2Hcc9RfJX8+bLSMTRuU2cwWe5utwU////iwSHfg4Y/QRr6qQpMDgADgev/80DECRZJqt5fiTgA+gA44AAKJCgrLBgiBUkJUYsAEkkojGgjDhEHBeMAMCMJwCQAy4OSUB5zf/6jU3/1tnDtBuSNRKnjdDELJU0589jTl8seaTDP///9Yif//oRV0AHAgQbfQzmh0v/zQsQKFkmqyMuMaAA3DFUfmVxWdDwfPjvAkw2wJ4C2BdAAxEEABGAB4EoaACWRWECCrG79+l///WdHoaIF/MjMzcv5OJEwL0lzcuGjemikZK8kky8Sx3/////0KpI0QC/0TuLhOh9g5v/zQMQMFHma8l/MKAJZHkrLj15Cflnaq8O9Ob4rsnCADDijokabh0iGpQlElJIn/1eSa7L6OisyHY5juVcBTJsJk+XB/Svvb///zpEVJuOM13tRpYAC2JFwlHwSzD5jEPSfoq5zbIpQ//NCxBUTYZbdv0koAgm85jjSYTIJDrnf7s5815bK6f/RinK5jTP1Y61aXdkXxwVInRbRio0NNVKrsu///VeRLLd0LY4ilZ6kAGPPgQ8IAIlJatlU4JTTVLkZCFl+I6MplLKbHhQA50ab//NAxCMccballZh4AMdUf/sZbTqhPm3/kU894Orf/+3+6Ytr43k5ATAtGnZkKiHASX03Y3iyHlvLGWB5pPmCqkcmkL3/9sNcZ//AfYCGAgE4Mgf7m8Vt///8VFkpsCSAAACqgIBAQS7/80LEDBWRtrZZmGgAzxfUANPGiorts9Darto/t9mM////6+dWTwXwSMe04cPlpUdLw4RNhG0SYtVAcwwTqdZUSR/rJITASwumCJgrNh2pS6hxwmFIxNWVaDuAGgBAUBSxvYf0FlKFYGv/80DEERQy9t5XzWgDNBN0kym3//rOGpIkIYACbmQzhVxxgtZ4LoEl3/QoGqCDf//dS7Or/9Fv//////////+2t1pppoGjGDKPLOaOmZG4CUEACDTDDonaJLgoE8bNfU88/86dckMLYP/zQsQbE9rK6d47xOo9b7iK8nhbA1LO3sFXvxv/VoVLf//rZlX+9OLCk//////////yEDqYhwhCjnCEDH+q8RlS6uC92jAACDTj4LlptMTAnTg3DO0UnN3m6kvqWT/waNiOIJwaEkkQbP/zQMQnFAma0d56ynje/6iagKHgkDAodJ//91Q7iJ70uVUHuqDxVv////4qCIcD7AwKf/VcxNVEq75AgMG4PBFlzIWGp3CIZCMwzlBWxEisXOQWTcieMAjOQaCKIgrGp/1Y4UY5W/////NCxDEUgsLOVnlEslR0BCyopaGuKLcw7P//////////vQxghSKwSeR/rnSF7kAZdkEC4agpJQuS3m21h4HdwfafjcnsYY75+6fKYfheBgQOmASC8iAvLKPaHW//tVER7//9TJdmNr9n//NAxDsTyZrGV1hQAlREPkr/////1HzRZTUf+ZFhQ+bLKiwgYFMefv/OcoFdAQ2Z/7PaLP/jkB+BkQIQG4EYfayZPI9BD0VfMx/Hwt1rZL6PMxzCM9EyV/M1GRASSK3epIx/////////80LERhPqepQBmYAA/+mYHG6///FhLUxBTUUzLjEwMFVMQU1FMy4xMDBVVVVVVVVVVVVVVVVVVVVVVVVVVVVVVVVVVVVVVVVVVVVVVVVVVVVVVVVVVVVVVVVVVVVVVVVVVVVVVVVVVVX/80DEUgAAA0gBwAAAVVVVVVVVVVVVVVVVVVVVVVVVVUxBTUUzLjEwMFVVVVVVVVVVVVVVVVVVVVVVVVVVVVVVVVVVVVVVVVVVVVVVVVVVVVVVVVVVVVVVVVVVVVVVVVVVVVVVVVVVVf/zQsSjAAADSAAAAABVVVVVVVVVVVVVVVVVVVVVVVVVVUxBTUUzLjEwMFVVVVVVVVVVVVVVVVVVVVVVVVVVVVVVVVVVVVVVVVVVVVVVVVVVVVVVVVVVVVVVVVVVVVVVVVVVVVVVVVVVVf/zQMSkAAADSAAAAABVVVVVVVVVVVVVVVVVVVVVVVVVTEFNRTMuMTAwVVVVVVVVVVVVVVVVVVVVVVVVVVVVVVVVVVVVVVVVVVVVVVVVVVVVVVVVVVVVVVVVVVVVVVVVVVVVVVVVVVVV//NCxKMAAANIAAAAAFVVVVVVVVVVVVVVVVVVVVVVVVVVTEFNRTMuMTAwVVVVVVVVVVVVVVVVVVVVVVVVVVVVVVVVVVVVVVVVVVVVVVVVVVVVVVVVVVVVVVVVVVVVVVVVVVVVVVVVVVVV//NAxKQAAANIAAAAAFVVVVVVVVVVVVVVVVVVVVVVVVVMQU1FMy4xMDBVVVVVVVVVVVVVVVVVVVVVVVVVVVVVVVVVVVVVVVVVVVVVVVVVVVVVVVVVVVVVVVVVVVVVVVVVVVVVVVVVVVX/80LEowAAA0gAAAAAVVVVVVVVVVVVVVVVVVVVVVVVVVVMQU1FMy4xMDBVVVVVVVVVVVVVVVVVVVVVVVVVVVVVVVVVVVVVVVVVVVVVVVVVVVVVVVVVVVVVVVVVVVVVVVVVVVVVVVVVVVX/80DEpAAAA0gAAAAAVVVVVVVVVVVVVVVVVVVVVVVVVUxBTUUzLjEwMFVVVVVVVVVVVVVVVVVVVVVVVVVVVVVVVVVVVVVVVVVVVVVVVVVVVVVVVVVVVVVVVVVVVVVVVVVVVVVVVVVVVf/zQsSjAAADSAAAAABVVVVVVVVVVVVVVVVVVVVVVVVVVUxBTUUzLjEwMFVVVVVVVVVVVVVVVVVVVVVVVVVVVVVVVVVVVVVVVVVVVVVVVVVVVVVVVVVVVVVVVVVVVVVVVVVVVVVVVVVVVf/zQMSkAAADSAAAAABVVVVVVVVVVVVVVVVVVVVVVVVVTEFNRTMuMTAwVVVVVVVVVVVVVVVVVVVVVVVVVVVVVVVVVVVVVVVVVVVVVVVVVVVVVVVVVVVVVVVVVVVVVVVVVVVVVVVVVVVV//NCxKMAAANIAAAAAFVVVVVVVVVVVVVVVVVVVVVVVVVVTEFNRTMuMTAwVVVVVVVVVVVVVVVVVVVVVVVVVVVVVVVVVVVVVVVVVVVVVVVVVVVVVVVVVVVVVVVVVVVVVVVVVVVVVVVVVVVV//NAxKQAAANIAAAAAFVVVVVVVVVVVVVVVVVVVVVVVVVMQU1FMy4xMDBVVVVVVVVVVVVVVVVVVVVVVVVVVVVVVVVVVVVVVVVVVVVVVVVVVVVVVVVVVVVVVVVVVVVVVVVVVVVVVVVVVVX/80LEowAAA0gAAAAAVVVVVVVVVVVVVVVVVVVVVVVVVVVMQU1FMy4xMDBVVVVVVVVVVVVVVVVVVVVVVVVVVVVVVVVVVVVVVVVVVVVVVVVVVVVVVVVVVVVVVVVVVVVVVVVVVVVVVVVVVVX/80DEpAAAA0gAAAAAVVVVVVVVVVVVVVVVVVVVVVVVVUxBTUUzLjEwMFVVVVVVVVVVVVVVVVVVVVVVVVVVVVVVVVVVVVVVVVVVVVVVVVVVVVVVVVVVVVVVVVVVVVVVVVVVVVVVVVVVVf/zQsSjAAADSAAAAABVVVVVVVVVVVVVVVVVVVVVVVVVVUxBTUUzLjEwMFVVVVVVVVVVVVVVVVVVVVVVVVVVVVVVVVVVVVVVVVVVVVVVVVVVVVVVVVVVVVVVVVVVVVVVVVVVVVVVVVVVVf/zQMSkAAADSAAAAABVVVVVVVVVVVVVVVVVVVVVVVVVVVVVVVVVVVVVVVVVVVVVVVVVVVVVVVVVVVVVVVVVVVVVVVVVVVVVVVVVVVVVVVVVVVVVVVVVVVVVVVVVVVVVVVVVVVVVVVVV//NCxKMAAANIAAAAAFVVVVVVVVVVVVVVVVVVVVVVVVVVVVVVVVVVVVVVVVVVVVVVVVVVVVVVVVVVVVVVVVVVVVVVVVVVVVVVVVVVVVVVVVVVVVVVVVVVVVVVVVVVVVVVVVVVVVVVVVVV\" type=\"audio/mpeg\" />\n",
              "                    Your browser does not support the audio element.\n",
              "                </audio>\n",
              "              "
            ]
          },
          "metadata": {}
        }
      ]
    },
    {
      "cell_type": "code",
      "source": [
        "# from shutil import which\n",
        "# print(which('espeak'))\n",
        "# print(which('espeak-ng'))"
      ],
      "metadata": {
        "colab": {
          "base_uri": "https://localhost:8080/"
        },
        "id": "V8stMK-a002Q",
        "outputId": "33530b1f-8929-4637-fad7-1bdc875fee35"
      },
      "execution_count": 38,
      "outputs": [
        {
          "output_type": "stream",
          "name": "stdout",
          "text": [
            "/usr/bin/espeak\n",
            "None\n"
          ]
        }
      ]
    },
    {
      "cell_type": "code",
      "source": [],
      "metadata": {
        "id": "yskpS8f4mcJQ"
      },
      "execution_count": null,
      "outputs": []
    }
  ]
}