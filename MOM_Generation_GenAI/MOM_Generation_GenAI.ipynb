{
  "nbformat": 4,
  "nbformat_minor": 0,
  "metadata": {
    "colab": {
      "provenance": []
    },
    "kernelspec": {
      "name": "python3",
      "display_name": "Python 3"
    },
    "language_info": {
      "name": "python"
    }
  },
  "cells": [
    {
      "cell_type": "markdown",
      "source": [
        "# **Minutes of Meeting Generation from Recordings using Gemini AI**"
      ],
      "metadata": {
        "id": "jwtjzCNB6lrL"
      }
    },
    {
      "cell_type": "markdown",
      "source": [
        "# Audio to MOM Generation"
      ],
      "metadata": {
        "id": "QSw-7XGD0aIr"
      }
    },
    {
      "cell_type": "code",
      "source": [
        "# Using genai, generating MOM with the shared recordings of meeting.\n",
        "# Don't forget to use your api key\n",
        "# Frist code is generating MOM using audio file\n",
        "# Second code is generating MOM using video file\n",
        "\n",
        "# If you are using file path from google drive then don't forget to give access"
      ],
      "metadata": {
        "id": "fWx3P90B66pa"
      },
      "execution_count": null,
      "outputs": []
    },
    {
      "cell_type": "code",
      "source": [
        "import google.generativeai as genai"
      ],
      "metadata": {
        "id": "4FyiE19un62x"
      },
      "execution_count": 6,
      "outputs": []
    },
    {
      "cell_type": "code",
      "source": [
        "genai.configure(api_key=\"USE YOUR API KEY HERE\")"
      ],
      "metadata": {
        "id": "XDkhrvEqqQnl"
      },
      "execution_count": 7,
      "outputs": []
    },
    {
      "cell_type": "code",
      "source": [
        "model=genai.GenerativeModel(\"gemini-1.5-flash\")\n",
        "audio=genai.upload_file(path=\"/content/sample_data/ProjectMeeting.mp3\")"
      ],
      "metadata": {
        "colab": {
          "base_uri": "https://localhost:8080/",
          "height": 34
        },
        "id": "LU2qtuWoqmaT",
        "outputId": "465ab55e-f52d-4711-d37b-cd6fc8118177"
      },
      "execution_count": 29,
      "outputs": [
        {
          "output_type": "stream",
          "name": "stdout",
          "text": [
            "ProjectMeeting.mp3\n"
          ]
        }
      ]
    },
    {
      "cell_type": "code",
      "source": [
        "prompt = f\"\"\"Please generate Minutes of a meeting using the uploaded file {audio.display_name} in English.\n",
        "Minutes of a meeting are a written record of what happened at a meeting. Don't print any missing value.\n",
        "Please dont' hallucinate anything from your side.\n",
        "They are an official record that can include:\n",
        "A record of decisions made\n",
        "A record of activities considered by participants\n",
        "A record of responses or decisions made in response to activities\n",
        "A record of key issues discussed\n",
        "A record of motions proposed or voted on\n",
        "\"\"\"\n",
        "\n",
        "response=model.generate_content([prompt, audio])\n",
        "print(response.text)"
      ],
      "metadata": {
        "colab": {
          "base_uri": "https://localhost:8080/",
          "height": 679
        },
        "id": "gqqyU2kq4_z6",
        "outputId": "a7176b42-c434-4422-dbff-cc32b39546da"
      },
      "execution_count": 31,
      "outputs": [
        {
          "output_type": "stream",
          "name": "stdout",
          "text": [
            "## Minutes of Meeting: \n",
            "**Date:** \n",
            "**Time:** \n",
            "**Attendees:** Daniel, Herik, Virginia, Fabian, Karine, Scott, Josh, Christy, David Sakamoto\n",
            "\n",
            "**Topics discussed:**\n",
            "* **Reminders:**\n",
            "    * **Book Club:** The next book club meeting is in 4 weeks on August 7th. The book is \"Inspirited\". Everyone is encouraged to read the book and it will be included in the onboarding materials for new hires.\n",
            "    * **Customer Interviews:** The spreadsheet populated by CS and Sales with customer contacts for meetings should be followed up on.\n",
            "    * **Engagement Survey:** The engagement survey will be run once a month in Q3 to take a pulse on employee feedback. The survey link is personal and sent to each employee. \n",
            "    * **OKR:** The team has a goal of 3 customer interviews per PM. The OKR is set for Q2.\n",
            "    * **Category Maturity Page:**  Josh created a new view showing how mature the team is at a given point in time. The team is encouraged to review and update the page if necessary.\n",
            "\n",
            "* **Team Updates:**\n",
            "    * **New Hires:** Gabe Weaver has been hired as a PM and is on the team. There is a strong candidate for a 4th PM slot. The team is hiring an APM.\n",
            "    * **Customer Results Language:** Some language around customer results has been changed. The team is encouraged to review the change. \n",
            "\n",
            "* **Discussion:**\n",
            "    * **Prioritize Ruthlessly:** The document \"Prioritize Ruthlessly\" was discussed. The team agrees with the point that internal feedback is valuable, but doesn't want to send the message that customer feedback is not important. The team will work on the language in the document. \n",
            "\n",
            "**Decisions:**\n",
            "* Jessica will resend the Engagement Survey link to Fabian and Karine. \n",
            "* The team will continue to review the Category Maturity page and make updates as needed.\n",
            "* The team will work on the language in the \"Prioritize Ruthlessly\" document. \n",
            "\n",
            "**Action Items:**\n",
            "* Jessica: Resend Engagement Survey link to Fabian and Karine.\n",
            "* All team members: Review and update Category Maturity page if necessary.\n",
            "* Christy and Daniel:  Work on the language in the \"Prioritize Ruthlessly\" document. \n",
            "\n",
            "\n",
            "**Next Steps:**\n",
            "The team will continue to work on hiring new PMs and achieving their Q2 goals. \n",
            "\n",
            "**Notes:**\n",
            "* The team is encouraged to continue to provide feedback and suggestions. \n",
            "\n"
          ]
        }
      ]
    },
    {
      "cell_type": "markdown",
      "source": [
        "# Video to MOM Generation"
      ],
      "metadata": {
        "id": "98ZMSotS0UIK"
      }
    },
    {
      "cell_type": "code",
      "source": [
        "import time\n",
        "\n",
        "video = genai.upload_file(path = \"/content/sample_data/ProjectMeetingTeams.mp4\")\n",
        "\n",
        "while video.state.name == \"PROCESSING\":\n",
        "  print('.', end=\"\")\n",
        "\n",
        "  time.sleep(10)\n",
        "  video = genai.get_file(video.name)\n",
        "\n",
        "print(\"Meeting uploaded successfully!\")"
      ],
      "metadata": {
        "colab": {
          "base_uri": "https://localhost:8080/",
          "height": 34
        },
        "id": "1MghMS14rVwC",
        "outputId": "e2b2160b-f1c1-48df-92d9-6f51f81e682e"
      },
      "execution_count": 32,
      "outputs": [
        {
          "output_type": "stream",
          "name": "stdout",
          "text": [
            ".Meeting uploaded successfully!\n"
          ]
        }
      ]
    },
    {
      "cell_type": "code",
      "source": [
        "prompt = f\"\"\"Please generate Minutes of a meeting using the uploaded file {video.display_name} in English.\n",
        "Minutes of a meeting are a written record of what happened at a meeting. Don't print any missing values.\n",
        "Please dont' hallucinate anything from your side.\n",
        "They are an official record that can include:\n",
        "A record of decisions made\n",
        "A record of activities considered by participants\n",
        "A record of responses or decisions made in response to activities\n",
        "A record of key issues discussed\n",
        "A record of motions proposed or voted on\n",
        "\"\"\"\n",
        "\n",
        "response = model.generate_content([prompt,video])\n",
        "print(response.text)"
      ],
      "metadata": {
        "colab": {
          "base_uri": "https://localhost:8080/",
          "height": 749
        },
        "id": "S5T_4b3duLDl",
        "outputId": "f7c267bb-c049-4992-da54-dd7a3496c04e"
      },
      "execution_count": 36,
      "outputs": [
        {
          "output_type": "stream",
          "name": "stdout",
          "text": [
            "Minutes of Meeting - Project Meeting Teams \n",
            "\n",
            "**Date:** Not Available \n",
            "**Time:** Not Available\n",
            "**Attendees:** \n",
            "\n",
            "  *  Eric \n",
            "  *  Virginia \n",
            "  *  Daniel \n",
            "  *  Josh \n",
            "  *  Christina\n",
            "  *  Karina \n",
            "  *  Fabian \n",
            "  *  Scott\n",
            "  *  Jessica \n",
            "  *  Two Anonymous Participants \n",
            "\n",
            "**Discussion:** \n",
            "\n",
            "  *  Eric opened the meeting with reminders including a book club coming up on August 7th, a customer contact spreadsheet that CS and sales have populated with a number of contacts for meetings, and a monthly engagement survey that will be run in Q3. \n",
            "  *  Eric also reminded the group that there are three weeks until Q2 ends and encouraged them to make sure they are on track to meet their goals.\n",
            "  *  Eric provided team updates, including the hiring of Gabe Weaver and Dov Herskovitz.\n",
            "  *  Eric also shared that Christie and he worked to update the customer result language in the handbook. \n",
            "  *  Scott brought up a concern regarding the focus on core competencies versus new scope in the handbook, believing the text seems to suggest a focus on new scope.\n",
            "  *  Eric clarified that the point of the update was to prioritize core competencies and get the most important things done first. \n",
            "  \n",
            "**Action Items:**\n",
            "\n",
            "  *  Jessica to resend the engagement survey link to Fabian and Karina. \n",
            "  *  Team members to check the latest handbook updates. \n",
            "\n",
            "**Next Steps:**\n",
            "   *  Next meeting will be held at a time to be determined.\n",
            "\n",
            "**Notes:**\n",
            "\n",
            "  *  The meeting was conducted remotely via video conferencing. \n",
            "  *  There was some discussion about the importance of internal feedback. \n",
            "\n",
            "These minutes are based on the information provided in the video, so they are not a complete or definitive record of the meeting. \n",
            "\n"
          ]
        }
      ]
    },
    {
      "cell_type": "markdown",
      "source": [
        "# Delete sent files"
      ],
      "metadata": {
        "id": "r_TtyPw_0olT"
      }
    },
    {
      "cell_type": "code",
      "source": [
        "for file in genai.list_files():\n",
        "  genai.delete_file(file.name)\n",
        "  print(f\"The {file.name} is deleted successfully.\")"
      ],
      "metadata": {
        "id": "JC3EOuEy0qGF"
      },
      "execution_count": null,
      "outputs": []
    }
  ]
}